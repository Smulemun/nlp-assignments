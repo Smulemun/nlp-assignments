{
  "cells": [
    {
      "cell_type": "markdown",
      "metadata": {
        "id": "RKboZnAdgrRM"
      },
      "source": [
        "# [NLP] Assignment 1: Tokenization\n",
        "\n",
        "In this assignment, you need to tokenize the text of the Twitter(X) users posts(tweets). The assignment consists of two tasks. When you finish all the tasks, create a GitHub repository for this assignment (you can use this repo later for the other assignments) and submit this notebook in the repository. Leave `requirements.txt` file if your code requires additional installations. Submit the link to the repository in Moodle.\n",
        "\n",
        "The [data](https://drive.google.com/file/d/15x_wPAflvYQ2Xh38iNQGrqUIWLj5l5Nw/view?usp=share_link) contains 5 files whereby each contains 44 tweets. Each tweet is separated by a newline."
      ]
    },
    {
      "cell_type": "markdown",
      "metadata": {
        "id": "aLDjjAvemUP_"
      },
      "source": [
        "## Task 1. Tokenize some tweets manually (20 points)\n",
        "\n",
        "As a first task you need to tokenize first 15 tweets from `file2` by hand. This will allow you to understand the problem from a linguistic point of view. The guidelines for tweet tokenization are as follows:\n",
        "\n",
        "- Each smiley is a separate token\n",
        "- Each hashtag is an individual token. Each user reference is an individual token\n",
        "- If a word has spaces between them then it is converted to a single token\n",
        "- All punctuations are individual tokens. This includes double-quotes and single quotes also\n",
        "- A URL is a single token\n",
        "\n",
        "Example of output\n",
        "\n",
        "    Input tweet\n",
        "    @xfranman Old age has made N A T O!\n",
        "\n",
        "    Tokenized tweet (separated by comma)\n",
        "    @xfranman , Old , age , has , made , NATO , !"
      ]
    },
    {
      "cell_type": "markdown",
      "metadata": {},
      "source": [
        "    \n",
        "    1. Input tweet\n",
        "    Camping in Maine for the weekend. Hey Dad, Mama Loves YOU: http://www.mamapalooza.com\n",
        "    1. Tokenized tweet (separated by |)\n",
        "    Camping | in | Maine | for | the | weekend | . | Hey | Dad | , | Mama | Loves | YOU | : | http://www.mamapalooza.com\n",
        "\n",
        "    2. Input tweet\n",
        "    Its american tradition bitch\n",
        "    2. Tokenized tweet\n",
        "    Its | american | tradition | bitch\n",
        "\n",
        "    3. Input tweet\n",
        "    @ThroughTheVoid They love it! The only pleasure they get in life. I actually do that. I'm sure I hear a tiny squeak... Then louder ones\n",
        "    3. Tokenized tweet\n",
        "    @ThroughTheVoid | They | love | it | ! | The | only | pleasure | they | get | in | life | . | I | actually | do | that | . | I | ' | m | sure | I | hear | a | tiny | squeak | ... | Then | louder | ones\n",
        "\n",
        "    4. Input tweet\n",
        "    \" RT @latti: @AbsoHilare stop tweeting in church! Lol <--- \"\"I tweet because I'm happy, I tweet because I'm free\"\" LOL!\"\n",
        "    4. Tokenized tweet\n",
        "    \" | RT | @latti | : | @AbsoHilare | stop | tweeting | in | church | ! | Lol | <--- | \" | \" | I | tweet | because | I | ' | m | happy | , | I | tweet | because | I | ' | m | free | \" | \" | LOL | ! | \"\n",
        "\n",
        "    5. Input tweet\n",
        "    Samsung Mini S2 portable HDD graced with colors that perfectly match your tacky beach gear: Sammy's done it aga.. http://tinyurl.com/lb5p6m\n",
        "    5. Tokenized tweet\n",
        "    Samsung | Mini | S2 | portable | HDD | graced | with | colors | that | perfectly | match | your | tacky | beach | gear | : | Sammy | ' | s | done | it | aga | .. | http://tinyurl.com/lb5p6m\n",
        "\n",
        "    6. Input tweet\n",
        "    @dialloc congrats on finding your way over. it may be slow going at first. hang in there. it's kinda cool when u get up to speed.\n",
        "    6. Tokenized tweet\n",
        "    @dialloc | congrats | on | finding | your | way | over | . | it | may | be | slow | going | at | first | . | hang | in | there | . | it | ' | s | kinda | cool | when | u | get | up | to | speed | .\n",
        "\n",
        "    7. Input tweet\n",
        "    iPhone activation delays continue, Apple offers $30 http://twt.gs/l3Ki\n",
        "    7. Tokenized tweet\n",
        "    iPhone | activation | delays | continue | , | Apple | offers | $30 | http://twt.gs/l3Ki\n",
        "\n",
        "    8. Input tweet\n",
        "    RT @GoogleAtWork Gmail maximum attachment size now 25MB http://bit.ly/62mjw Nice!!!\n",
        "    8. Tokenized tweet\n",
        "    RT | @GoogleAtWork | Gmail | maximum | attachment | size | now | 25MB | http://bit.ly/62mjw | Nice | !!!\n",
        "\n",
        "    9. Input tweet\n",
        "    RT @acfou The Ads Won Awards for Crispin; But Did Nothing for Client BurgerKing's Sales/Marketshare - Big Surprise - http://ping.fm/vw8TI\n",
        "    9. Tokenized tweet\n",
        "    RT | @acfou | The | Ads | Won | Awards | for | Crispin | ; | But | Did | Nothing | for | Client | BurgerKing | ' | s | Sales | / | Marketshare | - | Big | Surprise | - | http://ping.fm/vw8TI |\n",
        "\n",
        "    10. Input tweet\n",
        "    Hey doll! Great I missed True Blood yday boo lol Rt @FrankBanuat78 @jhillstephens Hello Sunshine how are u today? :-)\n",
        "    10. Tokenized tweet\n",
        "    Hey | doll | ! | Great | I | missed | True | Blood | yday | boo | lol | Rt | @FrankBanuat78 | @jhillstephens | Hello | Sunshine | how | are | u | today | ? | :-)\n",
        "\n",
        "    11. Input tweet\n",
        "    Australian artist Pogo made these free songs primarily from sampled audio from Alice In Wonderland. http://www.last.fm/music/Pogo/Wonderland\n",
        "    11. Tokenized tweet\n",
        "    Australian | artist | Pogo | made | these | free | songs | primarily | from | sampled | audio | from | Alice | In | Wonderland | . | http://www.last.fm/music/Pogo/Wonderland\n",
        "\n",
        "    12. Input tweet\n",
        "    @mppritchard they wanted to sell all the preorders & then sell all of the ones they had in stock to those that just walked in. Can't do both\n",
        "    12. Tokenized tweet\n",
        "    @mppritchard | they | wanted | to | sell | all | the | preorders | & | then | sell | all | of | the | ones | they | had | in | stock | to | those | that | just | walked | in | . | Can | ' | t | do | both\n",
        "\n",
        "    13. Input tweet\n",
        "    Incoming: Frightened Rabbit, Sept. 22 (Tucson): If Fat Cat Records is going to send three great bands from Scot.. http://tinyurl.com/nz6xcv\n",
        "    13. Tokenized tweet\n",
        "    Incoming | : | Frightened | Rabbit | , | Sept | . | 22 | ( | Tucson | ) | : | If | Fat | Cat | Records | is | going | to | send | three | great | bands | from | Scot | .. | http://tinyurl.com/nz6xcv\n",
        "\n",
        "    14. Input tweet\n",
        "    Hey @ginoandfran please greet philip! (GinoandFran live > http://ustre.am/2YyQ)\n",
        "    14. Tokenized tweet\n",
        "    Hey | @ginoandfran | please | greet | philip | ! | ( | GinoandFran | live | > | http://ustre.am/2YyQ | )\n",
        "\n",
        "    15. Input tweet\n",
        "    Ik weet niet wie er achter de T-Mobile iPhone Twitter zit maar ik vind het niet echt 'corporate' taalgebruik... Best vreemd eigenlijk\n",
        "    15. Tokenized tweet\n",
        "    Ik | weet | niet | wie | er | achter | de | T-Mobile | iPhone | Twitter | zit | maar | ik | vind | het | niet | echt | ' | corporate | ' | taalgebruik | ... | Best | vreemd | eigenlijk"
      ]
    },
    {
      "cell_type": "markdown",
      "metadata": {
        "id": "-2J2AD2nmUhi"
      },
      "source": [
        "## Task 2. Implement [Byte-Pair Encoding(BPE)](https://arxiv.org/pdf/1508.07909.pdf) Tokenizer (80 points)\n",
        "\n",
        "### Task 2.1. Implementation (60 points)\n",
        "\n",
        "Implement the tokenizer as the BPETokenizer class:\n",
        "* Implement `train` method that learns merges and builds the vocabulary of the specified `vocab_size` (25 points).\n",
        "* Implement `tokenize` method that should tokenize the text according to the learnt merges (25 points).\n",
        "\n",
        "Your code should have docstrings and comments (10 points)."
      ]
    },
    {
      "cell_type": "code",
      "execution_count": 132,
      "metadata": {},
      "outputs": [],
      "source": [
        "from typing import List\n",
        "from collections import defaultdict\n",
        "\n",
        "class BPETokenizer:\n",
        "    ''' Byte Pair Encoding Tokenizer class for training on a corpus and then tokenizing text '''\n",
        "\n",
        "    def __init__(self, vocab_size: int) -> None:\n",
        "        self.vocab_size = vocab_size\n",
        "        self.vocab = set()\n",
        "        self.merges = dict()\n",
        "\n",
        "\n",
        "    def train(self, corpus: List[str]) -> None:\n",
        "        ''' Train the tokenizer on a corpus of text '''\n",
        "\n",
        "        # split words into characters and add end-of-word token to each word\n",
        "        words_split = []\n",
        "        for sentence in corpus:\n",
        "            for word in sentence.split():\n",
        "                words_split.append(list(word) + ['<end>'])\n",
        "\n",
        "        # initial vocabulary is the set of characters in the words\n",
        "        self.vocab = set([char for word in words_split for char in word ])\n",
        "\n",
        "        # merge the most frequent pair of characters in the words until the vocabulary size is reached\n",
        "        while len(self.vocab) < self.vocab_size:\n",
        "            pair_freq = self.get_pair_frequency(words_split)\n",
        "            most_freq_pair = pair_freq[0][0][0] + pair_freq[0][0][1]\n",
        "            words_split = self.merge_pair(words_split, most_freq_pair)\n",
        "            self.vocab.add(most_freq_pair)\n",
        "\n",
        "            # remember the pairs that were merged for future tokenization\n",
        "            self.merges[pair_freq[0][0]] = most_freq_pair\n",
        "            \n",
        "\n",
        "    def _get_pair_frequency(self, words_split: List[List[str]]) -> defaultdict:\n",
        "        ''' Get frequency of pairs of characters in words '''\n",
        "\n",
        "        # count the frequency of each consecutive pair of characters in the words\n",
        "        pair_freq = defaultdict(int)\n",
        "        for word in words_split:\n",
        "            for i in range(len(word) - 1):\n",
        "                pair_freq[(word[i], word[i + 1])] += 1\n",
        "        pair_freq = sorted(pair_freq.items(), key=lambda x: x[1], reverse=True)\n",
        "        return pair_freq\n",
        "        \n",
        "    def _merge_pair(self, words_split: List[List[str]], pair: str) -> List[List[str]]:\n",
        "        ''' Merge the most frequent pair of characters in words '''\n",
        "\n",
        "        new_words_split = []\n",
        "        for word in words_split:\n",
        "            # if the whole word is a token, then skip\n",
        "            if len(word) == 1:\n",
        "                new_words_split.append(word)\n",
        "                continue\n",
        "            \n",
        "            # find and merge given pair of characters in the word\n",
        "            new_word = []\n",
        "            i = 0\n",
        "            while i < len(word) - 1:\n",
        "                if word[i] + word[i + 1] == pair:\n",
        "                    new_word = word[:i] + [pair] + word[(i + 2):]\n",
        "                    i += 2\n",
        "                else:\n",
        "                    i += 1\n",
        "            new_words_split.append(new_word if new_word else word)\n",
        "\n",
        "        return new_words_split\n",
        "\n",
        "    def tokenize(self, text: str) -> List[str]:\n",
        "        ''' Tokenize text using the trained tokenizer '''\n",
        "\n",
        "        tokens = []\n",
        "        for word in text.split():\n",
        "            # split word into characters and add end-of-word token\n",
        "            word = list(word) + ['<end>']\n",
        "\n",
        "            # perform the merges that were learned during training\n",
        "            for pair, merge in self.merges.items():\n",
        "                i = 0\n",
        "                while i < len(word) - 1:\n",
        "                    if word[i] == pair[0] and  word[i + 1] == pair[1]:\n",
        "                        word = word[:i] + [merge] + word[(i + 2):]\n",
        "                    i += 1\n",
        "            tokens.extend(word)\n",
        "            \n",
        "        return tokens"
      ]
    },
    {
      "cell_type": "markdown",
      "metadata": {},
      "source": [
        "### Task 2.2. Analysis on Tweets Dataset (10 points)\n",
        "\n",
        "Train the BPE tokenizer on the tweets dataset. Try to tokenize the tweets with the tokenizer of different `vocab_size`. For example, train the BPE tokenizer with `vocab_size` of [base_vocab_size, 250, 500, 750, 1000]. Plot the dependency of the average length of the tokenized tweet by `vocab_size` to analyze how `vocab_size` affects the length of the tokenized tweet on average. Tell what `vocab_size` is preferrable and why."
      ]
    },
    {
      "cell_type": "code",
      "execution_count": 179,
      "metadata": {},
      "outputs": [],
      "source": [
        "tweet_train_corpus = []\n",
        "\n",
        "# first 4 files are used for training\n",
        "for i in range(1, 5):\n",
        "    with open(f'file{i}', 'r', encoding='utf8') as f:\n",
        "        for line in f:\n",
        "            tweet_train_corpus.append(line.strip())    \n",
        "\n",
        "tweet_test_corpus = []\n",
        "\n",
        "# last file is used for testing\n",
        "with open('file5', 'r', encoding='utf8') as f:\n",
        "    for line in f:\n",
        "        tweet_test_corpus.append(line.strip())"
      ]
    },
    {
      "cell_type": "code",
      "execution_count": 184,
      "metadata": {},
      "outputs": [],
      "source": [
        "def get_avg_length(train_corpus, test_corpus, vocab_sizes):\n",
        "    ''' Get average token length for a given corpora and vocabulary sizes '''\n",
        "    \n",
        "    avg_lengths = []\n",
        "\n",
        "    for vocab_size in vocab_sizes:\n",
        "        # train the tokenizer on the training corpus\n",
        "        bpe = BPETokenizer(vocab_size)\n",
        "        bpe.train(train_corpus)\n",
        "\n",
        "        # tokenize the test corpus and calculate the average token length\n",
        "\n",
        "        length = 0\n",
        "        for line in test_corpus:\n",
        "            tokens = bpe.tokenize(line)\n",
        "            length += len(tokens)\n",
        "\n",
        "        avg_lengths.append(length / len(test_corpus))\n",
        "\n",
        "    return avg_lengths\n"
      ]
    },
    {
      "cell_type": "code",
      "execution_count": 186,
      "metadata": {},
      "outputs": [
        {
          "data": {
            "image/png": "[encoded data removed]",
            "text/plain": [
              "<Figure size 640x480 with 1 Axes>"
            ]
          },
          "metadata": {},
          "output_type": "display_data"
        }
      ],
      "source": [
        "import matplotlib.pyplot as plt\n",
        "\n",
        "vocab_sizes = [100, 250, 500, 750, 1000]\n",
        "avg_lengths = get_avg_length(tweet_train_corpus, tweet_test_corpus, vocab_sizes)\n",
        "\n",
        "plt.plot(vocab_sizes, avg_lengths)\n",
        "plt.xlabel('Vocab Size')\n",
        "plt.ylabel('Average Length')\n",
        "plt.show()\n"
      ]
    },
    {
      "cell_type": "markdown",
      "metadata": {},
      "source": [
        "The increase of vocab_size from 100 to 250 and from 250 to 500 leads to a quick drop of average length of tokenized sentence. After that point the decrease is more subtle and likely will continue to progress at a slower rate. However, with higher vocab_size the process of training and tokenization would take more time and memory, so a good vocab_size would be the one that balances these. According to the graph a preferable vocab_size would be roughly 500. "
      ]
    },
    {
      "cell_type": "code",
      "execution_count": 193,
      "metadata": {},
      "outputs": [
        {
          "name": "stdout",
          "output_type": "stream",
          "text": [
            "['M', 'o', 'on', 'fr', 'u', 'it', \"'s<end>\", 'in', 'v', 'ent', 'i', 've<end>', 'us', 'e<end>', 'of<end>', 't', 'witter<end>', 'for<end>', 's', 'el', 'f', '-', 'pr', 'om', 'o', 't', 'ion', '.<end>', 'http://bit.ly/', '1', '6', 'j', 'V', 'a', 'V', '<end>']\n"
          ]
        }
      ],
      "source": [
        "bpe = BPETokenizer(500)\n",
        "bpe.train(tweet_train_corpus)\n",
        "print(bpe.tokenize(tweet_test_corpus[0]))"
      ]
    },
    {
      "cell_type": "markdown",
      "metadata": {},
      "source": [
        "### Task 2.3. Analysis on Dataset of Different Language (10 points)\n",
        "\n",
        "Find a small dataset of texts in a language other than English. The dataset size should be not greater than several megabytes.\n",
        "\n",
        "Train the BPE tokenizer on the dataset that you found. Try to tokenize the sentences from this dataset with the tokenizer of different `vocab_size`. Plot the dependency of the average length of the tokenized sentence by `vocab_size` to analyze how `vocab_size` affects the length of the tokenized sentence on average.\n",
        "\n",
        "Tell how how the average length of the tokenized sentence differs from the average length of the tokenized tweet. Explain why. "
      ]
    },
    {
      "cell_type": "code",
      "execution_count": 182,
      "metadata": {},
      "outputs": [
        {
          "data": {
            "text/html": [
              "<div>\n",
              "<style scoped>\n",
              "    .dataframe tbody tr th:only-of-type {\n",
              "        vertical-align: middle;\n",
              "    }\n",
              "\n",
              "    .dataframe tbody tr th {\n",
              "        vertical-align: top;\n",
              "    }\n",
              "\n",
              "    .dataframe thead th {\n",
              "        text-align: right;\n",
              "    }\n",
              "</style>\n",
              "<table border=\"1\" class=\"dataframe\">\n",
              "  <thead>\n",
              "    <tr style=\"text-align: right;\">\n",
              "      <th></th>\n",
              "      <th>sentence</th>\n",
              "    </tr>\n",
              "  </thead>\n",
              "  <tbody>\n",
              "    <tr>\n",
              "      <th>1</th>\n",
              "      <td>’−テトラキス（オキシラン−２−イルメチル）−３，３’</td>\n",
              "    </tr>\n",
              "    <tr>\n",
              "      <th>2</th>\n",
              "      <td>ＯＶＥＲＭＡＮキングゲイナーのパイロットデータ、</td>\n",
              "    </tr>\n",
              "    <tr>\n",
              "      <th>3</th>\n",
              "      <td>アスタシア: ほらほら、しっかりして。</td>\n",
              "    </tr>\n",
              "    <tr>\n",
              "      <th>4</th>\n",
              "      <td>シースリーフィット レディース スポーツタイツ サポートタイツ フィットネス コンプレッショ...</td>\n",
              "    </tr>\n",
              "    <tr>\n",
              "      <th>5</th>\n",
              "      <td>サニーゴ（げんしのちから）→ワニノコ→ヨーギラス（いわなだれ）→ワニノコ（いやなおと）</td>\n",
              "    </tr>\n",
              "    <tr>\n",
              "      <th>...</th>\n",
              "      <td>...</td>\n",
              "    </tr>\n",
              "    <tr>\n",
              "      <th>9996</th>\n",
              "      <td>なお、黒線は一番蹴られが少ないと思われる。</td>\n",
              "    </tr>\n",
              "    <tr>\n",
              "      <th>9997</th>\n",
              "      <td>があるが、「黒豆木」の由来を平成13年の「豆木祈願」改訂版に、既に退会している幹部西谷泰人氏...</td>\n",
              "    </tr>\n",
              "    <tr>\n",
              "      <th>9998</th>\n",
              "      <td>黒麹仕込みによるコクのある味に、落ち着いた香りと甘みを感じる、まさに「穏やかさ）」を思わせる...</td>\n",
              "    </tr>\n",
              "    <tr>\n",
              "      <th>9999</th>\n",
              "      <td>鼻は効きますが、匂いはそんなに気にならかったです。</td>\n",
              "    </tr>\n",
              "    <tr>\n",
              "      <th>10000</th>\n",
              "      <td>齋藤茂太さんの言葉がナレーションで入ります。</td>\n",
              "    </tr>\n",
              "  </tbody>\n",
              "</table>\n",
              "<p>10000 rows × 1 columns</p>\n",
              "</div>"
            ],
            "text/plain": [
              "                                                sentence\n",
              "1                            ’−テトラキス（オキシラン−２−イルメチル）−３，３’\n",
              "2                               ＯＶＥＲＭＡＮキングゲイナーのパイロットデータ、\n",
              "3                                    アスタシア: ほらほら、しっかりして。\n",
              "4      シースリーフィット レディース スポーツタイツ サポートタイツ フィットネス コンプレッショ...\n",
              "5            サニーゴ（げんしのちから）→ワニノコ→ヨーギラス（いわなだれ）→ワニノコ（いやなおと）\n",
              "...                                                  ...\n",
              "9996                               なお、黒線は一番蹴られが少ないと思われる。\n",
              "9997   があるが、「黒豆木」の由来を平成13年の「豆木祈願」改訂版に、既に退会している幹部西谷泰人氏...\n",
              "9998   黒麹仕込みによるコクのある味に、落ち着いた香りと甘みを感じる、まさに「穏やかさ）」を思わせる...\n",
              "9999                           鼻は効きますが、匂いはそんなに気にならかったです。\n",
              "10000                             齋藤茂太さんの言葉がナレーションで入ります。\n",
              "\n",
              "[10000 rows x 1 columns]"
            ]
          },
          "execution_count": 182,
          "metadata": {},
          "output_type": "execute_result"
        }
      ],
      "source": [
        "import pandas as pd\n",
        "\n",
        "data = pd.read_csv('jp_web_sentences.txt', header=None, delimiter='\\t', names=['sentence'])\n",
        "\n",
        "jp_train_corpus = data['sentence'].tolist()[:1000]\n",
        "jp_test_corpus = data['sentence'].tolist()[1000:1500]\n",
        "\n",
        "data"
      ]
    },
    {
      "cell_type": "code",
      "execution_count": 188,
      "metadata": {},
      "outputs": [
        {
          "data": {
            "image/png": "[encoded data removed]",
            "text/plain": [
              "<Figure size 640x480 with 1 Axes>"
            ]
          },
          "metadata": {},
          "output_type": "display_data"
        }
      ],
      "source": [
        "import matplotlib.pyplot as plt\n",
        "\n",
        "vocab_sizes = [1000, 2500, 5000, 10000, 20000]\n",
        "avg_lengths = get_avg_length(jp_train_corpus, jp_test_corpus, vocab_sizes)\n",
        "\n",
        "plt.plot(vocab_sizes, avg_lengths)\n",
        "plt.xlabel('Vocab Size')\n",
        "plt.ylabel('Average Length')\n",
        "iplt.show()"
      ]
    },
    {
      "cell_type": "markdown",
      "metadata": {},
      "source": [
        "Japanese text requeries much higher vocabulary sizes, mainly because the writing system contains more than 50000 hieroglyphs, unlike the English with just 26 letters. In addition, writing system lowers the average length of sentences (because some words are just 1-2 hieroglyphs). That's why if we tokenize Japanese sentence just by singular symbols on average it will be smaller than English sentence tokenized by Byte-Pair Encoding. However with the increase of vocab_size the time to train and tokenize has risen significantly. If training on English sentences took maximum of 1 minute to run, the Japanese sentences took nearly 15 minutes."
      ]
    },
    {
      "cell_type": "code",
      "execution_count": 200,
      "metadata": {},
      "outputs": [
        {
          "name": "stdout",
          "output_type": "stream",
          "text": [
            "['この', '世界', 'には', '多', '数', 'の生', '命', '体', 'が', '存在', 'しています。<end>']\n"
          ]
        }
      ],
      "source": [
        "bpe = BPETokenizer(5000)\n",
        "bpe.train(jp_train_corpus)\n",
        "print(bpe.tokenize(jp_test_corpus[0]))"
      ]
    }
  ],
  "metadata": {
    "colab": {
      "provenance": [],
      "toc_visible": true
    },
    "kernelspec": {
      "display_name": "Python 3",
      "name": "python3"
    },
    "language_info": {
      "codemirror_mode": {
        "name": "ipython",
        "version": 3
      },
      "file_extension": ".py",
      "mimetype": "text/x-python",
      "name": "python",
      "nbconvert_exporter": "python",
      "pygments_lexer": "ipython3",
      "version": "3.11.3"
    }
  },
  "nbformat": 4,
  "nbformat_minor": 0
}
