{
 "cells": [
  {
   "cell_type": "code",
   "execution_count": 2,
   "metadata": {},
   "outputs": [
    {
     "data": {
      "text/html": [
       "<div>\n",
       "<style scoped>\n",
       "    .dataframe tbody tr th:only-of-type {\n",
       "        vertical-align: middle;\n",
       "    }\n",
       "\n",
       "    .dataframe tbody tr th {\n",
       "        vertical-align: top;\n",
       "    }\n",
       "\n",
       "    .dataframe thead th {\n",
       "        text-align: right;\n",
       "    }\n",
       "</style>\n",
       "<table border=\"1\" class=\"dataframe\">\n",
       "  <thead>\n",
       "    <tr style=\"text-align: right;\">\n",
       "      <th></th>\n",
       "      <th>ners</th>\n",
       "      <th>sentences</th>\n",
       "      <th>id</th>\n",
       "    </tr>\n",
       "  </thead>\n",
       "  <tbody>\n",
       "    <tr>\n",
       "      <th>0</th>\n",
       "      <td>[[0, 5, CITY], [16, 23, PERSON], [34, 41, PERS...</td>\n",
       "      <td>Бостон взорвали Тамерлан и Джохар Царнаевы из ...</td>\n",
       "      <td>0</td>\n",
       "    </tr>\n",
       "    <tr>\n",
       "      <th>1</th>\n",
       "      <td>[[21, 28, PROFESSION], [53, 67, ORGANIZATION],...</td>\n",
       "      <td>Умер избитый до комы гитарист и сооснователь г...</td>\n",
       "      <td>1</td>\n",
       "    </tr>\n",
       "    <tr>\n",
       "      <th>2</th>\n",
       "      <td>[[0, 4, PERSON], [37, 42, COUNTRY], [47, 76, O...</td>\n",
       "      <td>Путин подписал распоряжение о выходе России из...</td>\n",
       "      <td>2</td>\n",
       "    </tr>\n",
       "    <tr>\n",
       "      <th>3</th>\n",
       "      <td>[[0, 11, PERSON], [36, 47, PROFESSION], [49, 6...</td>\n",
       "      <td>Бенедикт XVI носил кардиостимулятор\\nПапа Римс...</td>\n",
       "      <td>3</td>\n",
       "    </tr>\n",
       "    <tr>\n",
       "      <th>4</th>\n",
       "      <td>[[0, 4, PERSON], [17, 29, ORGANIZATION], [48, ...</td>\n",
       "      <td>Обама назначит в Верховный суд латиноамериканк...</td>\n",
       "      <td>4</td>\n",
       "    </tr>\n",
       "  </tbody>\n",
       "</table>\n",
       "</div>"
      ],
      "text/plain": [
       "                                                ners   \n",
       "0  [[0, 5, CITY], [16, 23, PERSON], [34, 41, PERS...  \\\n",
       "1  [[21, 28, PROFESSION], [53, 67, ORGANIZATION],...   \n",
       "2  [[0, 4, PERSON], [37, 42, COUNTRY], [47, 76, O...   \n",
       "3  [[0, 11, PERSON], [36, 47, PROFESSION], [49, 6...   \n",
       "4  [[0, 4, PERSON], [17, 29, ORGANIZATION], [48, ...   \n",
       "\n",
       "                                           sentences  id  \n",
       "0  Бостон взорвали Тамерлан и Джохар Царнаевы из ...   0  \n",
       "1  Умер избитый до комы гитарист и сооснователь г...   1  \n",
       "2  Путин подписал распоряжение о выходе России из...   2  \n",
       "3  Бенедикт XVI носил кардиостимулятор\\nПапа Римс...   3  \n",
       "4  Обама назначит в Верховный суд латиноамериканк...   4  "
      ]
     },
     "execution_count": 2,
     "metadata": {},
     "output_type": "execute_result"
    }
   ],
   "source": [
    "import pandas as pd\n",
    "import numpy as np\n",
    "\n",
    "df = pd.read_json('data/train.jsonl', lines=True)\n",
    "df.head()"
   ]
  },
  {
   "cell_type": "code",
   "execution_count": 2,
   "metadata": {},
   "outputs": [],
   "source": [
    "def get_rid_of_overlaps(old_ners):\n",
    "    old_ners.sort()\n",
    "    new_ners = [tuple(old_ners[0])]\n",
    "    i = 1\n",
    "    while i != len(old_ners):\n",
    "        if (old_ners[i][0] <= new_ners[-1][0] and new_ners[-1][1] <= old_ners[i][1]) or\\\n",
    "            (old_ners[i][0] <= new_ners[-1][0] <= old_ners[i][1]) or\\\n",
    "            (new_ners[-1][0] <= old_ners[i][0] <= new_ners[-1][1]) or\\\n",
    "            (old_ners[i][0] <= new_ners[-1][1] <= old_ners[i][1]) or\\\n",
    "            (new_ners[-1][0] <= old_ners[i][1] <= new_ners[-1][1]):\n",
    "            new_ners[-1] = tuple(old_ners[i])\n",
    "        elif not (new_ners[-1][0] <= old_ners[i][0] and old_ners[i][1] <= new_ners[-1][1]):\n",
    "            new_ners.append(tuple(old_ners[i]))\n",
    "            \n",
    "        i += 1\n",
    "        \n",
    "    return new_ners"
   ]
  },
  {
   "cell_type": "code",
   "execution_count": 4,
   "metadata": {},
   "outputs": [],
   "source": [
    "train_data = []\n",
    "for i, row in df.iterrows():\n",
    "    train_data.append((\n",
    "        row['sentences'],\n",
    "        {\n",
    "            'entities': [(start, end + 1, ent) for start, end, ent in get_rid_of_overlaps(row['ners'])]\n",
    "        } \n",
    "    ))"
   ]
  },
  {
   "cell_type": "code",
   "execution_count": null,
   "metadata": {},
   "outputs": [],
   "source": [
    "import spacy\n",
    "\n",
    "model = spacy.load('ru_core_news_sm')"
   ]
  },
  {
   "cell_type": "code",
   "execution_count": null,
   "metadata": {},
   "outputs": [],
   "source": [
    "from tqdm.notebook import tqdm\n",
    "import random\n",
    "from spacy.training.example import Example\n",
    "\n",
    "EPOCHS = 10\n",
    "BATCH_SIZE = 64\n",
    "\n",
    "for epoch in range(EPOCHS):\n",
    "    random.shuffle(train_data)\n",
    "    losses = {}\n",
    "    for batch in tqdm(spacy.util.minibatch(train_data, size=BATCH_SIZE), total=len(train_data) // BATCH_SIZE + 1):\n",
    "        examples = []\n",
    "        for text, ann in batch:\n",
    "            doc = model.make_doc(text)\n",
    "            ex = Example.from_dict(doc, ann)\n",
    "            examples.append(ex)\n",
    "        model.update(examples, losses=losses)\n",
    "    print(losses)"
   ]
  },
  {
   "cell_type": "code",
   "execution_count": 109,
   "metadata": {},
   "outputs": [
    {
     "data": {
      "text/html": [
       "<div>\n",
       "<style scoped>\n",
       "    .dataframe tbody tr th:only-of-type {\n",
       "        vertical-align: middle;\n",
       "    }\n",
       "\n",
       "    .dataframe tbody tr th {\n",
       "        vertical-align: top;\n",
       "    }\n",
       "\n",
       "    .dataframe thead th {\n",
       "        text-align: right;\n",
       "    }\n",
       "</style>\n",
       "<table border=\"1\" class=\"dataframe\">\n",
       "  <thead>\n",
       "    <tr style=\"text-align: right;\">\n",
       "      <th></th>\n",
       "      <th>senences</th>\n",
       "      <th>id</th>\n",
       "    </tr>\n",
       "  </thead>\n",
       "  <tbody>\n",
       "    <tr>\n",
       "      <th>0</th>\n",
       "      <td>Генерал Д.Петреус назначен на пост главы ЦРУ.\\...</td>\n",
       "      <td>519</td>\n",
       "    </tr>\n",
       "    <tr>\n",
       "      <th>1</th>\n",
       "      <td>Подозреваемые в нападении на Charlie Hebdo зах...</td>\n",
       "      <td>520</td>\n",
       "    </tr>\n",
       "    <tr>\n",
       "      <th>2</th>\n",
       "      <td>Скончалась Джанет Рено — первая женщина-генпро...</td>\n",
       "      <td>521</td>\n",
       "    </tr>\n",
       "    <tr>\n",
       "      <th>3</th>\n",
       "      <td>Школьник из Иванова получил «Золотой крест» за...</td>\n",
       "      <td>522</td>\n",
       "    </tr>\n",
       "    <tr>\n",
       "      <th>4</th>\n",
       "      <td>Врачи установили причину смерти Сергея Доренко...</td>\n",
       "      <td>523</td>\n",
       "    </tr>\n",
       "  </tbody>\n",
       "</table>\n",
       "</div>"
      ],
      "text/plain": [
       "                                            senences   id\n",
       "0  Генерал Д.Петреус назначен на пост главы ЦРУ.\\...  519\n",
       "1  Подозреваемые в нападении на Charlie Hebdo зах...  520\n",
       "2  Скончалась Джанет Рено — первая женщина-генпро...  521\n",
       "3  Школьник из Иванова получил «Золотой крест» за...  522\n",
       "4  Врачи установили причину смерти Сергея Доренко...  523"
      ]
     },
     "execution_count": 109,
     "metadata": {},
     "output_type": "execute_result"
    }
   ],
   "source": [
    "test_df = pd.read_json('data/dev.jsonl', lines=True)\n",
    "test_df.head()"
   ]
  },
  {
   "cell_type": "code",
   "execution_count": 180,
   "metadata": {},
   "outputs": [
    {
     "data": {
      "text/plain": [
       "'Подозреваемые в нападении на Charlie Hebdo захватили заложника\\nПанорама Даммартен-ан-Гоэль (Dammartin-en-Goële)\\nПолицейское оцепление и журналисты\\nВ городе Даммартен-ан-Гоэль (Dammartin-en-Goële; столица графства Даммартен) к северо-востоку от Парижа французские силовики проводят операцию по поимке двух подозреваемых в убийстве 12 человек в редакции журнала Charlie Hebdo.\\n\\nВ условиях дождливой погоды вертолеты, полицейские и пожарные машины окружили промышленный парк в городе, расположенном в 40 километрах от Парижа.\\n\\nПолиция подтвердила сообщения, что подозреваемые взяли по крайней мере одного заложника.\\n\\nВсе выезды из города закрыты. Мэр города призвал местных жителей не выходить на улицу. Вблизи Даммартен-ан-Гоэля расположен международный аэропорт имени Шарля де Голля.\\n\\nМинистр внутренних дел Франции Бернар Казнев, подтвердил, что власти проводят операцию по захвату подозреваемых. Казнев выступил с этим заявлением после срочной встречи с президентом, премьер-министром и представителями полиции.\\n\\nВ поисках двух братьев-подозреваемых задействованы более 88 тысяч полицейских и сотрудников спецслужб. Третий предполагаемый участник нападения на редакцию, 18-летний Хамид Мурад, сдался после преследования властей в среду, 7 января 2015 года.\\n'"
      ]
     },
     "execution_count": 180,
     "metadata": {},
     "output_type": "execute_result"
    }
   ],
   "source": [
    "test_df.iloc[1]['senences']"
   ]
  },
  {
   "cell_type": "code",
   "execution_count": 181,
   "metadata": {},
   "outputs": [],
   "source": [
    "test_text = df.iloc[0]['sentences']\n",
    "test_answer = str(df.iloc[0]['ners'])"
   ]
  },
  {
   "cell_type": "code",
   "execution_count": 184,
   "metadata": {},
   "outputs": [
    {
     "data": {
      "text/plain": [
       "1628"
      ]
     },
     "execution_count": 184,
     "metadata": {},
     "output_type": "execute_result"
    }
   ],
   "source": [
    "len(test_answer)"
   ]
  },
  {
   "cell_type": "code",
   "execution_count": 125,
   "metadata": {},
   "outputs": [
    {
     "data": {
      "application/vnd.jupyter.widget-view+json": {
       "model_id": "f11d27d3985c461bbcbccac012a6760e",
       "version_major": 2,
       "version_minor": 0
      },
      "text/plain": [
       "  0%|          | 0/65 [00:00<?, ?it/s]"
      ]
     },
     "metadata": {},
     "output_type": "display_data"
    }
   ],
   "source": [
    "subm = []\n",
    "\n",
    "for i, row in tqdm(test_df.iterrows(), total=len(test_df)):\n",
    "    ners = {}\n",
    "    doc = model(row['senences'])\n",
    "    ners['ners'] = [[e.start_char, e.end_char - 1, e.label_] for e in doc.ents]\n",
    "    ners['id'] = row['id']\n",
    "    subm.append(ners)"
   ]
  },
  {
   "cell_type": "code",
   "execution_count": 126,
   "metadata": {},
   "outputs": [],
   "source": [
    "import json\n",
    "\n",
    "with open(\"test.jsonl\", 'w') as f:\n",
    "    for item in subm:\n",
    "        f.write(json.dumps(item) + \"\\n\")"
   ]
  }
 ],
 "metadata": {
  "kernelspec": {
   "display_name": "Python 3",
   "language": "python",
   "name": "python3"
  },
  "language_info": {
   "codemirror_mode": {
    "name": "ipython",
    "version": 3
   },
   "file_extension": ".py",
   "mimetype": "text/x-python",
   "name": "python",
   "nbconvert_exporter": "python",
   "pygments_lexer": "ipython3",
   "version": "3.11.3"
  }
 },
 "nbformat": 4,
 "nbformat_minor": 2
}
