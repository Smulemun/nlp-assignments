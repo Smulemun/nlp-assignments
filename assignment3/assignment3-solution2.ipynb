{
 "cells": [
  {
   "cell_type": "code",
   "execution_count": 4,
   "metadata": {},
   "outputs": [
    {
     "data": {
      "text/html": [
       "<div>\n",
       "<style scoped>\n",
       "    .dataframe tbody tr th:only-of-type {\n",
       "        vertical-align: middle;\n",
       "    }\n",
       "\n",
       "    .dataframe tbody tr th {\n",
       "        vertical-align: top;\n",
       "    }\n",
       "\n",
       "    .dataframe thead th {\n",
       "        text-align: right;\n",
       "    }\n",
       "</style>\n",
       "<table border=\"1\" class=\"dataframe\">\n",
       "  <thead>\n",
       "    <tr style=\"text-align: right;\">\n",
       "      <th></th>\n",
       "      <th>ners</th>\n",
       "      <th>sentences</th>\n",
       "      <th>id</th>\n",
       "    </tr>\n",
       "  </thead>\n",
       "  <tbody>\n",
       "    <tr>\n",
       "      <th>0</th>\n",
       "      <td>[[0, 5, CITY], [16, 23, PERSON], [34, 41, PERS...</td>\n",
       "      <td>Бостон взорвали Тамерлан и Джохар Царнаевы из ...</td>\n",
       "      <td>0</td>\n",
       "    </tr>\n",
       "    <tr>\n",
       "      <th>1</th>\n",
       "      <td>[[21, 28, PROFESSION], [53, 67, ORGANIZATION],...</td>\n",
       "      <td>Умер избитый до комы гитарист и сооснователь г...</td>\n",
       "      <td>1</td>\n",
       "    </tr>\n",
       "    <tr>\n",
       "      <th>2</th>\n",
       "      <td>[[0, 4, PERSON], [37, 42, COUNTRY], [47, 76, O...</td>\n",
       "      <td>Путин подписал распоряжение о выходе России из...</td>\n",
       "      <td>2</td>\n",
       "    </tr>\n",
       "    <tr>\n",
       "      <th>3</th>\n",
       "      <td>[[0, 11, PERSON], [36, 47, PROFESSION], [49, 6...</td>\n",
       "      <td>Бенедикт XVI носил кардиостимулятор\\nПапа Римс...</td>\n",
       "      <td>3</td>\n",
       "    </tr>\n",
       "    <tr>\n",
       "      <th>4</th>\n",
       "      <td>[[0, 4, PERSON], [17, 29, ORGANIZATION], [48, ...</td>\n",
       "      <td>Обама назначит в Верховный суд латиноамериканк...</td>\n",
       "      <td>4</td>\n",
       "    </tr>\n",
       "  </tbody>\n",
       "</table>\n",
       "</div>"
      ],
      "text/plain": [
       "                                                ners   \n",
       "0  [[0, 5, CITY], [16, 23, PERSON], [34, 41, PERS...  \\\n",
       "1  [[21, 28, PROFESSION], [53, 67, ORGANIZATION],...   \n",
       "2  [[0, 4, PERSON], [37, 42, COUNTRY], [47, 76, O...   \n",
       "3  [[0, 11, PERSON], [36, 47, PROFESSION], [49, 6...   \n",
       "4  [[0, 4, PERSON], [17, 29, ORGANIZATION], [48, ...   \n",
       "\n",
       "                                           sentences  id  \n",
       "0  Бостон взорвали Тамерлан и Джохар Царнаевы из ...   0  \n",
       "1  Умер избитый до комы гитарист и сооснователь г...   1  \n",
       "2  Путин подписал распоряжение о выходе России из...   2  \n",
       "3  Бенедикт XVI носил кардиостимулятор\\nПапа Римс...   3  \n",
       "4  Обама назначит в Верховный суд латиноамериканк...   4  "
      ]
     },
     "execution_count": 4,
     "metadata": {},
     "output_type": "execute_result"
    }
   ],
   "source": [
    "import pandas as pd\n",
    "import numpy as np\n",
    "\n",
    "df = pd.read_json('data/train.jsonl', lines=True)\n",
    "df.head()"
   ]
  },
  {
   "cell_type": "code",
   "execution_count": 5,
   "metadata": {},
   "outputs": [],
   "source": [
    "def split_ners(ners, sentences):    \n",
    "    cur_range = (0, len(sentences[0]))\n",
    "    splitted_ners = [[ne for ne in ners if ne[1] < cur_range[1]]]\n",
    "    for i in range(1, len(sentences)):\n",
    "        cur_range = (cur_range[1] + 1, cur_range[1] + len(sentences[i]) + 1)\n",
    "        new_ners = []\n",
    "        for ne in ners:\n",
    "            if ne[0] >= cur_range[0] and ne[1] <= cur_range[1]:\n",
    "                new_ne = [ne[0] - cur_range[0], ne[1] - cur_range[0], ne[2]]\n",
    "                new_ners.append(new_ne)\n",
    "        splitted_ners.append(new_ners)\n",
    "    return splitted_ners\n",
    "\n",
    "def combine_ners(splitted_ners, sentences):\n",
    "    combined_ners = splitted_ners[0]\n",
    "    prev = 0\n",
    "    for i in range(1, len(sentences)):\n",
    "        prev += len(sentences[i - 1]) + 1\n",
    "        new_ners = []\n",
    "        for ne in splitted_ners[i]:\n",
    "            new_ne = [ne[0] + prev, ne[1] + prev, ne[2]]\n",
    "            new_ners.append(new_ne)\n",
    "        combined_ners.extend(new_ners)\n",
    "    return combined_ners\n",
    "\n",
    "def split_dataframe(df):\n",
    "    new_df = {'ners': [], 'sentences': []}\n",
    "    for i, row in df.iterrows():\n",
    "        sentences = row['sentences'].split('\\n')\n",
    "        splitted_ners = split_ners(row['ners'], sentences)\n",
    "        new_df['ners'].extend(splitted_ners)\n",
    "        new_df['sentences'].extend(sentences)\n",
    "    return pd.DataFrame(new_df)\n",
    "\n",
    "def get_better_dataset(df):\n",
    "    new_df = {'ners': [], 'sentences': []}\n",
    "    for i, row in df.iterrows():\n",
    "        new_df['sentences'].append(row['sentences'])\n",
    "        ners = []\n",
    "        for ne in row['ners']:\n",
    "            ners.append(f\"{row['sentences'][ne[0]:ne[1] + 1]} = {ne[2]}\")\n",
    "        new_df['ners'].append('\\n'.join(ners))\n",
    "    return pd.DataFrame(new_df, index=range(len(new_df['ners'])))\n",
    "\n",
    "def get_ners_from_string(ners_string, sentence):\n",
    "    ners = []\n",
    "    for ne in ners_string.split('\\n'):\n",
    "        word, entity = ne.split(' = ')\n",
    "        ners.append([sentence.index(word), sentence.index(word) + len(word) - 1, entity])\n",
    "    return ners\n",
    "\n",
    "def preprocess_df(df, train=True):\n",
    "    splitted_df = split_dataframe(df)\n",
    "    if train:\n",
    "        splitted_df['sentences'] = splitted_df['sentences'].replace('', np.nan)\n",
    "        splitted_df = splitted_df.dropna().reset_index().drop('index', axis=1)\n",
    "    return get_better_dataset(splitted_df)"
   ]
  },
  {
   "cell_type": "code",
   "execution_count": 6,
   "metadata": {},
   "outputs": [],
   "source": [
    "new_df = preprocess_df(df)"
   ]
  },
  {
   "cell_type": "code",
   "execution_count": 10,
   "metadata": {},
   "outputs": [],
   "source": [
    "system_prompt = f\"\"\"Perform Nested NER for sentences from Russian newspaper enclosed in square brackets. \n",
    "For the given sentence you should provide the list of tokens = entity. \n",
    "There are a total of 29 named entity types: AGE, AWARD, CITY, COUNTRY, CRIME, DATE, DISEASE, \n",
    "DISTRICT, EVENT, FACILITY, FAMILY, IDEOLOGY, LANGUAGE, LAW, LOCATION, MONEY, NATIONALITY, NUMBER, ORDINAL, \n",
    "ORGANIZATION, PENALTY, PERCENT, PERSON, PRODUCT, PROFESSION, RELIGION, STATE_OR_PROVINCE, TIME, WORK_OF_ART. \n",
    "The maximum depth of nesting is 6.\"\"\""
   ]
  },
  {
   "cell_type": "code",
   "execution_count": 13,
   "metadata": {},
   "outputs": [
    {
     "data": {
      "text/plain": [
       "[{'messages': [{'role': 'system',\n",
       "    'content': 'Perform Nested NER for sentences from Russian newspaper enclosed in square brackets. \\nFor the given sentence you should provide the list of tokens = entity. \\nThere are a total of 29 named entity types: AGE, AWARD, CITY, COUNTRY, CRIME, DATE, DISEASE, \\nDISTRICT, EVENT, FACILITY, FAMILY, IDEOLOGY, LANGUAGE, LAW, LOCATION, MONEY, NATIONALITY, NUMBER, ORDINAL, \\nORGANIZATION, PENALTY, PERCENT, PERSON, PRODUCT, PROFESSION, RELIGION, STATE_OR_PROVINCE, TIME, WORK_OF_ART. \\nThe maximum depth of nesting is 6.'},\n",
       "   {'role': 'user',\n",
       "    'content': 'Бостон взорвали Тамерлан и Джохар Царнаевы из Северного Кавказа'},\n",
       "   {'role': 'assistant',\n",
       "    'content': 'Бостон = CITY\\nТамерлан = PERSON\\nЦарнаевы = PERSON\\nСеверного Кавказа = LOCATION\\nвзорвали = EVENT\\nДжохар Царнаевы = PERSON\\nТамерлан и Джохар Царнаевы = FAMILY\\nКавказа = LOCATION'}]}]"
      ]
     },
     "execution_count": 13,
     "metadata": {},
     "output_type": "execute_result"
    }
   ],
   "source": [
    "dataset = []\n",
    "for i, row in new_df.iterrows():\n",
    "    message_dict = {\"messages\": [\n",
    "                    {\"role\": \"system\", \"content\": system_prompt}, \n",
    "                    {\"role\": \"user\", \"content\": row['sentences']}, \n",
    "                    {\"role\": \"assistant\", \"content\": row['ners']}\n",
    "                   ]}\n",
    "    \n",
    "    dataset.append(message_dict)\n",
    "\n",
    "dataset[:1]"
   ]
  },
  {
   "cell_type": "code",
   "execution_count": 15,
   "metadata": {},
   "outputs": [
    {
     "data": {
      "text/plain": [
       "(4280, 476)"
      ]
     },
     "execution_count": 15,
     "metadata": {},
     "output_type": "execute_result"
    }
   ],
   "source": [
    "from sklearn.model_selection import train_test_split\n",
    "\n",
    "train_dataset, val_dataset = train_test_split(dataset, test_size=0.10, shuffle=True)\n",
    "len(train_dataset), len(val_dataset)"
   ]
  },
  {
   "cell_type": "code",
   "execution_count": 8,
   "metadata": {},
   "outputs": [],
   "source": [
    "import json\n",
    "\n",
    "def save_jsonl(filename, data):\n",
    "    with open(f'{filename}.jsonl', 'w') as f:\n",
    "        for item in data:\n",
    "            f.write(json.dumps(item) + \"\\n\")"
   ]
  },
  {
   "cell_type": "code",
   "execution_count": 16,
   "metadata": {},
   "outputs": [],
   "source": [
    "save_jsonl('runner_train', train_dataset)\n",
    "save_jsonl('runner_val', val_dataset)"
   ]
  },
  {
   "cell_type": "code",
   "execution_count": 18,
   "metadata": {},
   "outputs": [
    {
     "data": {
      "text/html": [
       "<div>\n",
       "<style scoped>\n",
       "    .dataframe tbody tr th:only-of-type {\n",
       "        vertical-align: middle;\n",
       "    }\n",
       "\n",
       "    .dataframe tbody tr th {\n",
       "        vertical-align: top;\n",
       "    }\n",
       "\n",
       "    .dataframe thead th {\n",
       "        text-align: right;\n",
       "    }\n",
       "</style>\n",
       "<table border=\"1\" class=\"dataframe\">\n",
       "  <thead>\n",
       "    <tr style=\"text-align: right;\">\n",
       "      <th></th>\n",
       "      <th>senences</th>\n",
       "      <th>id</th>\n",
       "    </tr>\n",
       "  </thead>\n",
       "  <tbody>\n",
       "    <tr>\n",
       "      <th>0</th>\n",
       "      <td>Владелец «Бирмингема» получил шесть лет тюрьмы...</td>\n",
       "      <td>584</td>\n",
       "    </tr>\n",
       "    <tr>\n",
       "      <th>1</th>\n",
       "      <td>Акция протеста на Майдане Независимости объявл...</td>\n",
       "      <td>585</td>\n",
       "    </tr>\n",
       "    <tr>\n",
       "      <th>2</th>\n",
       "      <td>Фольксваген может перейти под контроль Порше \\...</td>\n",
       "      <td>586</td>\n",
       "    </tr>\n",
       "    <tr>\n",
       "      <th>3</th>\n",
       "      <td>В Москве покажут фильмы Чарли Чаплина с живой ...</td>\n",
       "      <td>587</td>\n",
       "    </tr>\n",
       "    <tr>\n",
       "      <th>4</th>\n",
       "      <td>Чулпан Хаматова сыграет главную роль в фильме ...</td>\n",
       "      <td>588</td>\n",
       "    </tr>\n",
       "  </tbody>\n",
       "</table>\n",
       "</div>"
      ],
      "text/plain": [
       "                                            senences   id\n",
       "0  Владелец «Бирмингема» получил шесть лет тюрьмы...  584\n",
       "1  Акция протеста на Майдане Независимости объявл...  585\n",
       "2  Фольксваген может перейти под контроль Порше \\...  586\n",
       "3  В Москве покажут фильмы Чарли Чаплина с живой ...  587\n",
       "4  Чулпан Хаматова сыграет главную роль в фильме ...  588"
      ]
     },
     "execution_count": 18,
     "metadata": {},
     "output_type": "execute_result"
    }
   ],
   "source": [
    "test_df = pd.read_json('data/test.jsonl', lines=True)\n",
    "test_df.head()"
   ]
  },
  {
   "cell_type": "code",
   "execution_count": 19,
   "metadata": {},
   "outputs": [],
   "source": [
    "def split_test_dataframe(df):\n",
    "    new_df = {'id': [], 'sentences': []}\n",
    "    for i, row in df.iterrows():\n",
    "        sentences = row['senences'].split('\\n')\n",
    "        new_df['id'].extend([row['id'] for _ in sentences])\n",
    "        new_df['sentences'].extend(sentences)\n",
    "    return pd.DataFrame(new_df)"
   ]
  },
  {
   "cell_type": "code",
   "execution_count": 20,
   "metadata": {},
   "outputs": [
    {
     "data": {
      "text/html": [
       "<div>\n",
       "<style scoped>\n",
       "    .dataframe tbody tr th:only-of-type {\n",
       "        vertical-align: middle;\n",
       "    }\n",
       "\n",
       "    .dataframe tbody tr th {\n",
       "        vertical-align: top;\n",
       "    }\n",
       "\n",
       "    .dataframe thead th {\n",
       "        text-align: right;\n",
       "    }\n",
       "</style>\n",
       "<table border=\"1\" class=\"dataframe\">\n",
       "  <thead>\n",
       "    <tr style=\"text-align: right;\">\n",
       "      <th></th>\n",
       "      <th>id</th>\n",
       "      <th>sentences</th>\n",
       "    </tr>\n",
       "  </thead>\n",
       "  <tbody>\n",
       "    <tr>\n",
       "      <th>0</th>\n",
       "      <td>584</td>\n",
       "      <td>Владелец «Бирмингема» получил шесть лет тюрьмы</td>\n",
       "    </tr>\n",
       "    <tr>\n",
       "      <th>1</th>\n",
       "      <td>584</td>\n",
       "      <td>мини|слева|«Сент-Эндрюс» — домашний стадион фу...</td>\n",
       "    </tr>\n",
       "    <tr>\n",
       "      <th>2</th>\n",
       "      <td>584</td>\n",
       "      <td>В пятницу, 7 марта суд Гонконга приговорил вла...</td>\n",
       "    </tr>\n",
       "    <tr>\n",
       "      <th>3</th>\n",
       "      <td>584</td>\n",
       "      <td></td>\n",
       "    </tr>\n",
       "    <tr>\n",
       "      <th>4</th>\n",
       "      <td>584</td>\n",
       "      <td>54-летний бизнесмен был признан виновным в отм...</td>\n",
       "    </tr>\n",
       "  </tbody>\n",
       "</table>\n",
       "</div>"
      ],
      "text/plain": [
       "    id                                          sentences\n",
       "0  584     Владелец «Бирмингема» получил шесть лет тюрьмы\n",
       "1  584  мини|слева|«Сент-Эндрюс» — домашний стадион фу...\n",
       "2  584  В пятницу, 7 марта суд Гонконга приговорил вла...\n",
       "3  584                                                   \n",
       "4  584  54-летний бизнесмен был признан виновным в отм..."
      ]
     },
     "execution_count": 20,
     "metadata": {},
     "output_type": "execute_result"
    }
   ],
   "source": [
    "test_dataset = split_test_dataframe(test_df)\n",
    "test_dataset.head()"
   ]
  },
  {
   "cell_type": "code",
   "execution_count": 26,
   "metadata": {},
   "outputs": [
    {
     "data": {
      "application/vnd.jupyter.widget-view+json": {
       "model_id": "e2d3e88957a2476b896bee6a05e39b03",
       "version_major": 2,
       "version_minor": 0
      },
      "text/plain": [
       "  0%|          | 0/65 [00:00<?, ?it/s]"
      ]
     },
     "metadata": {},
     "output_type": "display_data"
    }
   ],
   "source": [
    "from openai import OpenAI\n",
    "from tqdm.notebook import tqdm\n",
    "\n",
    "client = OpenAI()\n",
    "preds = {'id': [], 'result': []}\n",
    "\n",
    "for i, row in tqdm(test_dataset.iterrows(), total=len(test_dataset)):\n",
    "    if len(row['sentences']) == 0:\n",
    "        res = ''\n",
    "    else:\n",
    "        completion = client.chat.completions.create(\n",
    "            model=\"ft:gpt-3.5-turbo-1106:personal:runner-v3:9Ix5FMcY\",\n",
    "            messages=[\n",
    "                {\"role\": \"system\", \"content\": system_prompt},\n",
    "                {\"role\": \"user\", \"content\": row['sentences']}\n",
    "            ]\n",
    "        )\n",
    "        res = completion.choices[0].message.content\n",
    "    preds['id'].append(row['id'])\n",
    "    preds['result'].append(res)"
   ]
  },
  {
   "cell_type": "code",
   "execution_count": 27,
   "metadata": {},
   "outputs": [],
   "source": [
    "preds_tmp_df = pd.DataFrame(preds)\n",
    "preds_tmp_df.to_csv('preds_tmp.csv')"
   ]
  },
  {
   "cell_type": "code",
   "execution_count": 50,
   "metadata": {},
   "outputs": [],
   "source": [
    "named_entities = {\n",
    "    'AGE', 'AWARD', 'CITY', 'COUNTRY', 'CRIME', 'DATE', 'DISEASE', 'DISTRICT', 'EVENT', \n",
    "    'FACILITY', 'FAMILY', 'IDEOLOGY', 'LANGUAGE', 'LAW', 'LOCATION', 'MONEY', 'NATIONALITY', \n",
    "    'NUMBER', 'ORDINAL', 'ORGANIZATION', 'PENALTY', 'PERCENT', 'PERSON', 'PRODUCT', 'PROFESSION', \n",
    "    'RELIGION', 'STATE_OR_PROVINCE', 'TIME', 'WORK_OF_ART',\n",
    "}"
   ]
  },
  {
   "cell_type": "code",
   "execution_count": 86,
   "metadata": {},
   "outputs": [],
   "source": [
    "def postprocess_ners(ners, sentence):\n",
    "    new_ners = []\n",
    "    for ne in ners:\n",
    "        try:\n",
    "            word, entity = ne.split(' = ')\n",
    "            entity = entity.upper()\n",
    "            if entity not in named_entities:\n",
    "                raise(Exception)\n",
    "            start = sentence.index(word)\n",
    "            end = start + len(word) - 1\n",
    "            new_ners.append([start, end, entity])\n",
    "        except Exception as e:\n",
    "            continue\n",
    "    return new_ners"
   ]
  },
  {
   "cell_type": "code",
   "execution_count": 87,
   "metadata": {},
   "outputs": [],
   "source": [
    "preds = {'id': [], 'tmp_ners': []}\n",
    "ners = []\n",
    "for i, row in preds_tmp_df.iterrows():\n",
    "    if len(preds['id']) > 0 and row['id'] == preds['id'][-1]:\n",
    "        preds['tmp_ners'][-1].extend(row['result'].split('\\n'))\n",
    "    else:\n",
    "        preds['id'].append(row['id'])\n",
    "        preds['tmp_ners'].append(row['result'].split('\\n'))\n",
    "    "
   ]
  },
  {
   "cell_type": "code",
   "execution_count": 88,
   "metadata": {},
   "outputs": [],
   "source": [
    "subm = []\n",
    "for i, row in test_df.iterrows():\n",
    "    tmp = {}\n",
    "    tmp['id'] = row['id']\n",
    "    tmp['ners'] = postprocess_ners(preds['tmp_ners'][i], row['senences'])\n",
    "    subm.append(tmp)"
   ]
  },
  {
   "cell_type": "code",
   "execution_count": 89,
   "metadata": {},
   "outputs": [],
   "source": [
    "save_jsonl('test', subm)"
   ]
  }
 ],
 "metadata": {
  "kernelspec": {
   "display_name": "Python 3",
   "language": "python",
   "name": "python3"
  },
  "language_info": {
   "codemirror_mode": {
    "name": "ipython",
    "version": 3
   },
   "file_extension": ".py",
   "mimetype": "text/x-python",
   "name": "python",
   "nbconvert_exporter": "python",
   "pygments_lexer": "ipython3",
   "version": "3.11.3"
  }
 },
 "nbformat": 4,
 "nbformat_minor": 2
}
